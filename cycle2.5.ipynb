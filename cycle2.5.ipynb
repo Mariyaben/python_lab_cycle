{
  "nbformat": 4,
  "nbformat_minor": 0,
  "metadata": {
    "colab": {
      "name": "Untitled13.ipynb",
      "provenance": [],
      "authorship_tag": "ABX9TyOYgkZgNk6prKPy3+G4b33I",
      "include_colab_link": true
    },
    "kernelspec": {
      "name": "python3",
      "display_name": "Python 3"
    },
    "language_info": {
      "name": "python"
    }
  },
  "cells": [
    {
      "cell_type": "markdown",
      "metadata": {
        "id": "view-in-github",
        "colab_type": "text"
      },
      "source": [
        "<a href=\"https://colab.research.google.com/github/Mariyaben/python_lab_cycle/blob/main/cycle2.5.ipynb\" target=\"_parent\"><img src=\"https://colab.research.google.com/assets/colab-badge.svg\" alt=\"Open In Colab\"/></a>"
      ]
    },
    {
      "cell_type": "markdown",
      "source": [
        "5. Write a program to create a parent class, 3DShapes, with methods printVolume() and printArea(), which prints the Volume and Area, respectively. Create classes Cylinder and Sphere by inheriting 3DShapes class. Using these child classes, calculate and print the volume and area of a cylinder and sphere."
      ],
      "metadata": {
        "id": "LntJ6CBbfaph"
      }
    },
    {
      "cell_type": "code",
      "execution_count": null,
      "metadata": {
        "id": "Gzn-_iQydoTj"
      },
      "outputs": [],
      "source": [
        "class Shapes:\n",
        "  def printVolume(self):\n",
        "    print(\"Volume = \",self._volume)\n",
        "  def printArea(self):\n",
        "    print(\"Area = \",self._area)\n",
        "\n",
        "\n",
        "class Cylinder(Shapes):\n",
        "   def __init__(self,radius,height):\n",
        "    self.__radius = radius\n",
        "    self.__height = height\n",
        "   def area(self):\n",
        "\n",
        "    self._area = 2*3.14*self.__radius*(self.__radius+self.__height)\n",
        "   def volume(self):\n",
        "    self._volume=3.14*self.__height*(self.__radius**2)\n",
        "\n",
        "class Sphere(Shapes):\n",
        "  def __init__(self,radius):\n",
        "    self.__rad=radius\n",
        "  def area(self):\n",
        "    self._area=4*3.14*self.__rad**2\n",
        "  def volume(self):\n",
        "    self._volume=(3/4)*3.14*(self.__rad**3)\n",
        "\n",
        "cradius=int(input(\"Enter radius of cylinder\"))\n",
        "height=int(input(\"Enter height of cylinder\"))\n",
        "Cylinder1=Cylinder(cradius,height)\n",
        "Cylinder1.area()\n",
        "Cylinder1.printArea()\n",
        "Cylinder1.volume()\n",
        "Cylinder1.printVolume()\n",
        "\n",
        "sradius=int(input(\"Enter radius of sphere \"))\n",
        "Sphere1=Sphere(sradius)\n",
        "Sphere1.area()\n",
        "Sphere1.printArea()\n",
        "Sphere1.volume()\n",
        "Sphere1.printVolume()\n",
        "\n"
      ]
    },
    {
      "cell_type": "code",
      "source": [
        ""
      ],
      "metadata": {
        "id": "kK0YSIWhrDiP"
      },
      "execution_count": null,
      "outputs": []
    }
  ]
}