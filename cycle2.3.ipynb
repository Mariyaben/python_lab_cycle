{
  "nbformat": 4,
  "nbformat_minor": 0,
  "metadata": {
    "colab": {
      "name": "Untitled3.ipynb",
      "provenance": [],
      "collapsed_sections": [],
      "authorship_tag": "ABX9TyPCdMMgb3JBJY6hXYbG9G0N",
      "include_colab_link": true
    },
    "kernelspec": {
      "name": "python3",
      "display_name": "Python 3"
    },
    "language_info": {
      "name": "python"
    }
  },
  "cells": [
    {
      "cell_type": "markdown",
      "metadata": {
        "id": "view-in-github",
        "colab_type": "text"
      },
      "source": [
        "<a href=\"https://colab.research.google.com/github/Mariyaben/python_lab_cycle/blob/main/cycle2.3.ipynb\" target=\"_parent\"><img src=\"https://colab.research.google.com/assets/colab-badge.svg\" alt=\"Open In Colab\"/></a>"
      ]
    },
    {
      "cell_type": "code",
      "execution_count": 4,
      "metadata": {
        "id": "lYOg1yM6eBGT"
      },
      "outputs": [],
      "source": [
        "\n",
        "\n",
        "import json\n",
        "f=open(\"iris.json\",\"r\")\n",
        "fread=f.read().splitlines()\n",
        "f.close()\n",
        "\n",
        "\n"
      ]
    },
    {
      "cell_type": "code",
      "source": [
        "length=len(fread)\n",
        "dct= [eval(fread[i].strip(',')) for i in range(1, length - 1)]"
      ],
      "metadata": {
        "id": "Sbbu_OIrgK1g"
      },
      "execution_count": 3,
      "outputs": []
    },
    {
      "cell_type": "code",
      "source": [
        "\n",
        "\n",
        "for i in dct:\n",
        "  if i['species']=='setosa':\n",
        "    print(i)\n",
        "  i['sepal_area']=i['sepalLength']*i['sepalWidth']\n",
        "  i['petal_area']=i['petalLength']*i['petalWidth']\n",
        "  i['total_area']=i['sepal_area']*i['petal_area']\n",
        "\n"
      ],
      "metadata": {
        "colab": {
          "base_uri": "https://localhost:8080/"
        },
        "id": "QF60oryUgNZH",
        "outputId": "c0f9913e-16d6-40fd-b833-95a5c3a87741"
      },
      "execution_count": 5,
      "outputs": [
        {
          "output_type": "stream",
          "name": "stdout",
          "text": [
            "{'sepalLength': 5.1, 'sepalWidth': 3.5, 'petalLength': 1.4, 'petalWidth': 0.2, 'species': 'setosa'}\n",
            "{'sepalLength': 4.9, 'sepalWidth': 3.0, 'petalLength': 1.4, 'petalWidth': 0.2, 'species': 'setosa'}\n",
            "{'sepalLength': 4.7, 'sepalWidth': 3.2, 'petalLength': 1.3, 'petalWidth': 0.2, 'species': 'setosa'}\n",
            "{'sepalLength': 4.6, 'sepalWidth': 3.1, 'petalLength': 1.5, 'petalWidth': 0.2, 'species': 'setosa'}\n",
            "{'sepalLength': 5.0, 'sepalWidth': 3.6, 'petalLength': 1.4, 'petalWidth': 0.2, 'species': 'setosa'}\n",
            "{'sepalLength': 5.4, 'sepalWidth': 3.9, 'petalLength': 1.7, 'petalWidth': 0.4, 'species': 'setosa'}\n",
            "{'sepalLength': 4.6, 'sepalWidth': 3.4, 'petalLength': 1.4, 'petalWidth': 0.3, 'species': 'setosa'}\n",
            "{'sepalLength': 5.0, 'sepalWidth': 3.4, 'petalLength': 1.5, 'petalWidth': 0.2, 'species': 'setosa'}\n",
            "{'sepalLength': 4.4, 'sepalWidth': 2.9, 'petalLength': 1.4, 'petalWidth': 0.2, 'species': 'setosa'}\n",
            "{'sepalLength': 4.9, 'sepalWidth': 3.1, 'petalLength': 1.5, 'petalWidth': 0.1, 'species': 'setosa'}\n",
            "{'sepalLength': 5.4, 'sepalWidth': 3.7, 'petalLength': 1.5, 'petalWidth': 0.2, 'species': 'setosa'}\n",
            "{'sepalLength': 4.8, 'sepalWidth': 3.4, 'petalLength': 1.6, 'petalWidth': 0.2, 'species': 'setosa'}\n",
            "{'sepalLength': 4.8, 'sepalWidth': 3.0, 'petalLength': 1.4, 'petalWidth': 0.1, 'species': 'setosa'}\n",
            "{'sepalLength': 4.3, 'sepalWidth': 3.0, 'petalLength': 1.1, 'petalWidth': 0.1, 'species': 'setosa'}\n",
            "{'sepalLength': 5.8, 'sepalWidth': 4.0, 'petalLength': 1.2, 'petalWidth': 0.2, 'species': 'setosa'}\n",
            "{'sepalLength': 5.7, 'sepalWidth': 4.4, 'petalLength': 1.5, 'petalWidth': 0.4, 'species': 'setosa'}\n",
            "{'sepalLength': 5.4, 'sepalWidth': 3.9, 'petalLength': 1.3, 'petalWidth': 0.4, 'species': 'setosa'}\n",
            "{'sepalLength': 5.1, 'sepalWidth': 3.5, 'petalLength': 1.4, 'petalWidth': 0.3, 'species': 'setosa'}\n",
            "{'sepalLength': 5.7, 'sepalWidth': 3.8, 'petalLength': 1.7, 'petalWidth': 0.3, 'species': 'setosa'}\n",
            "{'sepalLength': 5.1, 'sepalWidth': 3.8, 'petalLength': 1.5, 'petalWidth': 0.3, 'species': 'setosa'}\n",
            "{'sepalLength': 5.4, 'sepalWidth': 3.4, 'petalLength': 1.7, 'petalWidth': 0.2, 'species': 'setosa'}\n",
            "{'sepalLength': 5.1, 'sepalWidth': 3.7, 'petalLength': 1.5, 'petalWidth': 0.4, 'species': 'setosa'}\n",
            "{'sepalLength': 4.6, 'sepalWidth': 3.6, 'petalLength': 1.0, 'petalWidth': 0.2, 'species': 'setosa'}\n",
            "{'sepalLength': 5.1, 'sepalWidth': 3.3, 'petalLength': 1.7, 'petalWidth': 0.5, 'species': 'setosa'}\n",
            "{'sepalLength': 4.8, 'sepalWidth': 3.4, 'petalLength': 1.9, 'petalWidth': 0.2, 'species': 'setosa'}\n",
            "{'sepalLength': 5.0, 'sepalWidth': 3.0, 'petalLength': 1.6, 'petalWidth': 0.2, 'species': 'setosa'}\n",
            "{'sepalLength': 5.0, 'sepalWidth': 3.4, 'petalLength': 1.6, 'petalWidth': 0.4, 'species': 'setosa'}\n",
            "{'sepalLength': 5.2, 'sepalWidth': 3.5, 'petalLength': 1.5, 'petalWidth': 0.2, 'species': 'setosa'}\n",
            "{'sepalLength': 5.2, 'sepalWidth': 3.4, 'petalLength': 1.4, 'petalWidth': 0.2, 'species': 'setosa'}\n",
            "{'sepalLength': 4.7, 'sepalWidth': 3.2, 'petalLength': 1.6, 'petalWidth': 0.2, 'species': 'setosa'}\n",
            "{'sepalLength': 4.8, 'sepalWidth': 3.1, 'petalLength': 1.6, 'petalWidth': 0.2, 'species': 'setosa'}\n",
            "{'sepalLength': 5.4, 'sepalWidth': 3.4, 'petalLength': 1.5, 'petalWidth': 0.4, 'species': 'setosa'}\n",
            "{'sepalLength': 5.2, 'sepalWidth': 4.1, 'petalLength': 1.5, 'petalWidth': 0.1, 'species': 'setosa'}\n",
            "{'sepalLength': 5.5, 'sepalWidth': 4.2, 'petalLength': 1.4, 'petalWidth': 0.2, 'species': 'setosa'}\n",
            "{'sepalLength': 4.9, 'sepalWidth': 3.1, 'petalLength': 1.5, 'petalWidth': 0.2, 'species': 'setosa'}\n",
            "{'sepalLength': 5.0, 'sepalWidth': 3.2, 'petalLength': 1.2, 'petalWidth': 0.2, 'species': 'setosa'}\n",
            "{'sepalLength': 5.5, 'sepalWidth': 3.5, 'petalLength': 1.3, 'petalWidth': 0.2, 'species': 'setosa'}\n",
            "{'sepalLength': 4.9, 'sepalWidth': 3.6, 'petalLength': 1.4, 'petalWidth': 0.1, 'species': 'setosa'}\n",
            "{'sepalLength': 4.4, 'sepalWidth': 3.0, 'petalLength': 1.3, 'petalWidth': 0.2, 'species': 'setosa'}\n",
            "{'sepalLength': 5.1, 'sepalWidth': 3.4, 'petalLength': 1.5, 'petalWidth': 0.2, 'species': 'setosa'}\n",
            "{'sepalLength': 5.0, 'sepalWidth': 3.5, 'petalLength': 1.3, 'petalWidth': 0.3, 'species': 'setosa'}\n",
            "{'sepalLength': 4.5, 'sepalWidth': 2.3, 'petalLength': 1.3, 'petalWidth': 0.3, 'species': 'setosa'}\n",
            "{'sepalLength': 4.4, 'sepalWidth': 3.2, 'petalLength': 1.3, 'petalWidth': 0.2, 'species': 'setosa'}\n",
            "{'sepalLength': 5.0, 'sepalWidth': 3.5, 'petalLength': 1.6, 'petalWidth': 0.6, 'species': 'setosa'}\n",
            "{'sepalLength': 5.1, 'sepalWidth': 3.8, 'petalLength': 1.9, 'petalWidth': 0.4, 'species': 'setosa'}\n",
            "{'sepalLength': 4.8, 'sepalWidth': 3.0, 'petalLength': 1.4, 'petalWidth': 0.3, 'species': 'setosa'}\n",
            "{'sepalLength': 5.1, 'sepalWidth': 3.8, 'petalLength': 1.6, 'petalWidth': 0.2, 'species': 'setosa'}\n",
            "{'sepalLength': 4.6, 'sepalWidth': 3.2, 'petalLength': 1.4, 'petalWidth': 0.2, 'species': 'setosa'}\n",
            "{'sepalLength': 5.3, 'sepalWidth': 3.7, 'petalLength': 1.5, 'petalWidth': 0.2, 'species': 'setosa'}\n",
            "{'sepalLength': 5.0, 'sepalWidth': 3.3, 'petalLength': 1.4, 'petalWidth': 0.2, 'species': 'setosa'}\n"
          ]
        }
      ]
    },
    {
      "cell_type": "code",
      "source": [
        "sepal_ar=[]\n",
        "petal_ar=[]\n",
        "species_list=[]\n",
        "for i in dct:\n",
        "  species_list.append(i['species'])\n",
        "species_list=list(set(species_list))\n",
        "for j in range (len(species_list)):\n",
        "  for k in dct:\n",
        "    if k['species']==species_list[j]:\n",
        "      sepal_ar.append(k['sepal_area'])\n",
        "      petal_ar.append(k['petal_area'])\n",
        "  print()\n",
        "  print(\"The minimum and maximum petal area of \",species_list[j],\" is \",round(min(petal_ar),2),\" and \",round(max(petal_ar)),\" respectively.\")\n",
        "  print(\"The minimum and maximum sepal area of \",species_list[j],\" is \",round(min(sepal_ar),2),\" and \",round(max(sepal_ar),2),\" respectively.\")\n",
        "  sepal_ar=[]\n",
        "  petal_ar=[]"
      ],
      "metadata": {
        "colab": {
          "base_uri": "https://localhost:8080/"
        },
        "id": "qhVspH9RgUu3",
        "outputId": "461177ce-3877-4e58-b1e8-288de91a99b2"
      },
      "execution_count": 6,
      "outputs": [
        {
          "output_type": "stream",
          "name": "stdout",
          "text": [
            "\n",
            "The minimum and maximum petal area of  setosa  is  0.11  and  1  respectively.\n",
            "The minimum and maximum sepal area of  setosa  is  10.35  and  25.08  respectively.\n",
            "\n",
            "The minimum and maximum petal area of  versicolor  is  3.3  and  9  respectively.\n",
            "The minimum and maximum sepal area of  versicolor  is  10.0  and  22.4  respectively.\n",
            "\n",
            "The minimum and maximum petal area of  virginica  is  7.5  and  16  respectively.\n",
            "The minimum and maximum sepal area of  virginica  is  12.25  and  30.02  respectively.\n"
          ]
        }
      ]
    }
  ]
}