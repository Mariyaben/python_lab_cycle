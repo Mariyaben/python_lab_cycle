{
  "nbformat": 4,
  "nbformat_minor": 0,
  "metadata": {
    "colab": {
      "name": "Untitled15.ipynb",
      "provenance": [],
      "authorship_tag": "ABX9TyP23X78YY/LXW+mqmfgn5we",
      "include_colab_link": true
    },
    "kernelspec": {
      "name": "python3",
      "display_name": "Python 3"
    },
    "language_info": {
      "name": "python"
    }
  },
  "cells": [
    {
      "cell_type": "markdown",
      "metadata": {
        "id": "view-in-github",
        "colab_type": "text"
      },
      "source": [
        "<a href=\"https://colab.research.google.com/github/Mariyaben/python_lab_cycle/blob/main/cycle2.3.ipynb\" target=\"_parent\"><img src=\"https://colab.research.google.com/assets/colab-badge.svg\" alt=\"Open In Colab\"/></a>"
      ]
    },
    {
      "cell_type": "markdown",
      "source": [
        "3. Read the file 'iris.json' as a text file :\n",
        "\n",
        "A. Create a list having each line of the file as an element\n",
        "\n",
        "B. Convert it into a list of dictionary objects.\n",
        "\n",
        "C. Show the details of all flowers whose species is \"setosa\".\n",
        "\n",
        "D. Print the minimum petal area and max sepal area in each species\n",
        "\n",
        "E. Sort the list of dictionaries according to the total area are sepal and petal."
      ],
      "metadata": {
        "id": "xR-D2okDxsX3"
      }
    },
    {
      "cell_type": "code",
      "execution_count": null,
      "metadata": {
        "id": "eCPxiwsxxi33"
      },
      "outputs": [],
      "source": [
        "import json\n",
        "f=open(\"iris.json\",\"r\")\n",
        "fread=f.read().splitlines()\n",
        "f.close()"
      ]
    },
    {
      "cell_type": "code",
      "source": [
        "length=len(fread)\n",
        "dct= [eval(fread[i].strip(',')) for i in range(1, length - 1)]"
      ],
      "metadata": {
        "id": "I6oVE8Ohx9SG"
      },
      "execution_count": null,
      "outputs": []
    },
    {
      "cell_type": "code",
      "source": [
        "for i in dct:\n",
        "  if i['species']=='setosa':\n",
        "    print(i)\n",
        "  i['sepal_area']=i['sepalLength']*i['sepalWidth']\n",
        "  i['petal_area']=i['petalLength']*i['petalWidth']\n",
        "  i['total_area']=i['sepal_area']*i['petal_area']"
      ],
      "metadata": {
        "id": "eHIgLL8syDIY"
      },
      "execution_count": null,
      "outputs": []
    },
    {
      "cell_type": "markdown",
      "source": [
        "{'sepalLength': 5.1, 'sepalWidth': 3.5, 'petalLength': 1.4, 'petalWidth': 0.2, 'species': 'setosa', 'sepal_area': 17.849999999999998, 'petal_area': 0.27999999999999997, 'toata_area': 4.997999999999998}\n",
        "{'sepalLength': 4.9, 'sepalWidth': 3.0, 'petalLength': 1.4, 'petalWidth': 0.2, 'species': 'setosa', 'sepal_area': 14.700000000000001, 'petal_area': 0.27999999999999997, 'toata_area': 4.116}\n",
        "{'sepalLength': 4.7, 'sepalWidth': 3.2, 'petalLength': 1.3, 'petalWidth': 0.2, 'species': 'setosa', 'sepal_area': 15.040000000000001, 'petal_area': 0.26, 'toata_area': 3.9104000000000005}\n",
        "{'sepalLength': 4.6, 'sepalWidth': 3.1, 'petalLength': 1.5, 'petalWidth': 0.2, 'species': 'setosa', 'sepal_area': 14.26, 'petal_area': 0.30000000000000004, 'toata_area': 4.2780000000000005}\n",
        "{'sepalLength': 5.0, 'sepalWidth': 3.6, 'petalLength': 1.4, 'petalWidth': 0.2, 'species': 'setosa', 'sepal_area': 18.0, 'petal_area': 0.27999999999999997, 'toata_area': 5.039999999999999}\n",
        "{'sepalLength': 5.4, 'sepalWidth': 3.9, 'petalLength': 1.7, 'petalWidth': 0.4, 'species': 'setosa', 'sepal_area': 21.060000000000002, 'petal_area': 0.68, 'toata_area': 14.320800000000002}\n",
        "{'sepalLength': 4.6, 'sepalWidth': 3.4, 'petalLength': 1.4, 'petalWidth': 0.3, 'species': 'setosa', 'sepal_area': 15.639999999999999, 'petal_area': 0.42, 'toata_area': 6.5687999999999995}\n",
        "{'sepalLength': 5.0, 'sepalWidth': 3.4, 'petalLength': 1.5, 'petalWidth': 0.2, 'species': 'setosa', 'sepal_area': 17.0, 'petal_area': 0.30000000000000004, 'toata_area': 5.1000000000000005}\n",
        "{'sepalLength': 4.4, 'sepalWidth': 2.9, 'petalLength': 1.4, 'petalWidth': 0.2, 'species': 'setosa', 'sepal_area': 12.76, 'petal_area': 0.27999999999999997, 'toata_area': 3.5727999999999995}\n",
        "{'sepalLength': 4.9, 'sepalWidth': 3.1, 'petalLength': 1.5, 'petalWidth': 0.1, 'species': 'setosa', 'sepal_area': 15.190000000000001, 'petal_area': 0.15000000000000002, 'toata_area': 2.2785000000000006}\n",
        "{'sepalLength': 5.4, 'sepalWidth': 3.7, 'petalLength': 1.5, 'petalWidth': 0.2, 'species': 'setosa', 'sepal_area': 19.980000000000004, 'petal_area': 0.30000000000000004, 'toata_area': 5.994000000000002}\n",
        "{'sepalLength': 4.8, 'sepalWidth': 3.4, 'petalLength': 1.6, 'petalWidth': 0.2, 'species': 'setosa', 'sepal_area': 16.32, 'petal_area': 0.32000000000000006, 'toata_area': 5.222400000000001}\n",
        "{'sepalLength': 4.8, 'sepalWidth': 3.0, 'petalLength': 1.4, 'petalWidth': 0.1, 'species': 'setosa', 'sepal_area': 14.399999999999999, 'petal_area': 0.13999999999999999, 'toata_area': 2.0159999999999996}\n",
        "{'sepalLength': 4.3, 'sepalWidth': 3.0, 'petalLength': 1.1, 'petalWidth': 0.1, 'species': 'setosa', 'sepal_area': 12.899999999999999, 'petal_area': 0.11000000000000001, 'toata_area': 1.419}\n",
        "{'sepalLength': 5.8, 'sepalWidth': 4.0, 'petalLength': 1.2, 'petalWidth': 0.2, 'species': 'setosa', 'sepal_area': 23.2, 'petal_area': 0.24, 'toata_area': 5.568}\n",
        "{'sepalLength': 5.7, 'sepalWidth': 4.4, 'petalLength': 1.5, 'petalWidth': 0.4, 'species': 'setosa', 'sepal_area': 25.080000000000002, 'petal_area': 0.6000000000000001, 'toata_area': 15.048000000000004}\n",
        "{'sepalLength': 5.4, 'sepalWidth': 3.9, 'petalLength': 1.3, 'petalWidth': 0.4, 'species': 'setosa', 'sepal_area': 21.060000000000002, 'petal_area': 0.52, 'toata_area': 10.951200000000002}\n",
        "{'sepalLength': 5.1, 'sepalWidth': 3.5, 'petalLength': 1.4, 'petalWidth': 0.3, 'species': 'setosa', 'sepal_area': 17.849999999999998, 'petal_area': 0.42, 'toata_area': 7.496999999999999}\n",
        "{'sepalLength': 5.7, 'sepalWidth': 3.8, 'petalLength': 1.7, 'petalWidth': 0.3, 'species': 'setosa', 'sepal_area': 21.66, 'petal_area': 0.51, 'toata_area': 11.0466}\n",
        "{'sepalLength': 5.1, 'sepalWidth': 3.8, 'petalLength': 1.5, 'petalWidth': 0.3, 'species': 'setosa', 'sepal_area': 19.38, 'petal_area': 0.44999999999999996, 'toata_area': 8.720999999999998}\n",
        "{'sepalLength': 5.4, 'sepalWidth': 3.4, 'petalLength': 1.7, 'petalWidth': 0.2, 'species': 'setosa', 'sepal_area': 18.36, 'petal_area': 0.34, 'toata_area': 6.2424}\n",
        "{'sepalLength': 5.1, 'sepalWidth': 3.7, 'petalLength': 1.5, 'petalWidth': 0.4, 'species': 'setosa', 'sepal_area': 18.87, 'petal_area': 0.6000000000000001, 'toata_area': 11.322000000000003}\n",
        "{'sepalLength': 4.6, 'sepalWidth': 3.6, 'petalLength': 1.0, 'petalWidth': 0.2, 'species': 'setosa', 'sepal_area': 16.56, 'petal_area': 0.2, 'toata_area': 3.312}\n",
        "{'sepalLength': 5.1, 'sepalWidth': 3.3, 'petalLength': 1.7, 'petalWidth': 0.5, 'species': 'setosa', 'sepal_area': 16.83, 'petal_area': 0.85, 'toata_area': 14.305499999999999}\n",
        "{'sepalLength': 4.8, 'sepalWidth': 3.4, 'petalLength': 1.9, 'petalWidth': 0.2, 'species': 'setosa', 'sepal_area': 16.32, 'petal_area': 0.38, 'toata_area': 6.2016}\n",
        "{'sepalLength': 5.0, 'sepalWidth': 3.0, 'petalLength': 1.6, 'petalWidth': 0.2, 'species': 'setosa', 'sepal_area': 15.0, 'petal_area': 0.32000000000000006, 'toata_area': 4.800000000000001}\n",
        "{'sepalLength': 5.0, 'sepalWidth': 3.4, 'petalLength': 1.6, 'petalWidth': 0.4, 'species': 'setosa', 'sepal_area': 17.0, 'petal_area': 0.6400000000000001, 'toata_area': 10.880000000000003}\n",
        "{'sepalLength': 5.2, 'sepalWidth': 3.5, 'petalLength': 1.5, 'petalWidth': 0.2, 'species': 'setosa', 'sepal_area': 18.2, 'petal_area': 0.30000000000000004, 'toata_area': 5.460000000000001}\n",
        "{'sepalLength': 5.2, 'sepalWidth': 3.4, 'petalLength': 1.4, 'petalWidth': 0.2, 'species': 'setosa', 'sepal_area': 17.68, 'petal_area': 0.27999999999999997, 'toata_area': 4.950399999999999}\n",
        "{'sepalLength': 4.7, 'sepalWidth': 3.2, 'petalLength': 1.6, 'petalWidth': 0.2, 'species': 'setosa', 'sepal_area': 15.040000000000001, 'petal_area': 0.32000000000000006, 'toata_area': 4.812800000000001}\n",
        "{'sepalLength': 4.8, 'sepalWidth': 3.1, 'petalLength': 1.6, 'petalWidth': 0.2, 'species': 'setosa', 'sepal_area': 14.879999999999999, 'petal_area': 0.32000000000000006, 'toata_area': 4.7616000000000005}\n",
        "{'sepalLength': 5.4, 'sepalWidth': 3.4, 'petalLength': 1.5, 'petalWidth': 0.4, 'species': 'setosa', 'sepal_area': 18.36, 'petal_area': 0.6000000000000001, 'toata_area': 11.016000000000002}\n",
        "{'sepalLength': 5.2, 'sepalWidth': 4.1, 'petalLength': 1.5, 'petalWidth': 0.1, 'species': 'setosa', 'sepal_area': 21.32, 'petal_area': 0.15000000000000002, 'toata_area': 3.1980000000000004}\n",
        "{'sepalLength': 5.5, 'sepalWidth': 4.2, 'petalLength': 1.4, 'petalWidth': 0.2, 'species': 'setosa', 'sepal_area': 23.1, 'petal_area': 0.27999999999999997, 'toata_area': 6.468}\n",
        "{'sepalLength': 4.9, 'sepalWidth': 3.1, 'petalLength': 1.5, 'petalWidth': 0.2, 'species': 'setosa', 'sepal_area': 15.190000000000001, 'petal_area': 0.30000000000000004, 'toata_area': 4.557000000000001}\n",
        "{'sepalLength': 5.0, 'sepalWidth': 3.2, 'petalLength': 1.2, 'petalWidth': 0.2, 'species': 'setosa', 'sepal_area': 16.0, 'petal_area': 0.24, 'toata_area': 3.84}\n",
        "{'sepalLength': 5.5, 'sepalWidth': 3.5, 'petalLength': 1.3, 'petalWidth': 0.2, 'species': 'setosa', 'sepal_area': 19.25, 'petal_area': 0.26, 'toata_area': 5.005}\n",
        "{'sepalLength': 4.9, 'sepalWidth': 3.6, 'petalLength': 1.4, 'petalWidth': 0.1, 'species': 'setosa', 'sepal_area': 17.64, 'petal_area': 0.13999999999999999, 'toata_area': 2.4696}\n",
        "{'sepalLength': 4.4, 'sepalWidth': 3.0, 'petalLength': 1.3, 'petalWidth': 0.2, 'species': 'setosa', 'sepal_area': 13.200000000000001, 'petal_area': 0.26, 'toata_area': 3.4320000000000004}\n",
        "{'sepalLength': 5.1, 'sepalWidth': 3.4, 'petalLength': 1.5, 'petalWidth': 0.2, 'species': 'setosa', 'sepal_area': 17.34, 'petal_area': 0.30000000000000004, 'toata_area': 5.202000000000001}\n",
        "{'sepalLength': 5.0, 'sepalWidth': 3.5, 'petalLength': 1.3, 'petalWidth': 0.3, 'species': 'setosa', 'sepal_area': 17.5, 'petal_area': 0.39, 'toata_area': 6.825}\n",
        "{'sepalLength': 4.5, 'sepalWidth': 2.3, 'petalLength': 1.3, 'petalWidth': 0.3, 'species': 'setosa', 'sepal_area': 10.35, 'petal_area': 0.39, 'toata_area': 4.0365}\n",
        "{'sepalLength': 4.4, 'sepalWidth': 3.2, 'petalLength': 1.3, 'petalWidth': 0.2, 'species': 'setosa', 'sepal_area': 14.080000000000002, 'petal_area': 0.26, 'toata_area': 3.6608000000000005}\n",
        "{'sepalLength': 5.0, 'sepalWidth': 3.5, 'petalLength': 1.6, 'petalWidth': 0.6, 'species': 'setosa', 'sepal_area': 17.5, 'petal_area': 0.96, 'toata_area': 16.8}\n",
        "{'sepalLength': 5.1, 'sepalWidth': 3.8, 'petalLength': 1.9, 'petalWidth': 0.4, 'species': 'setosa', 'sepal_area': 19.38, 'petal_area': 0.76, 'toata_area': 14.7288}\n",
        "{'sepalLength': 4.8, 'sepalWidth': 3.0, 'petalLength': 1.4, 'petalWidth': 0.3, 'species': 'setosa', 'sepal_area': 14.399999999999999, 'petal_area': 0.42, 'toata_area': 6.047999999999999}\n",
        "{'sepalLength': 5.1, 'sepalWidth': 3.8, 'petalLength': 1.6, 'petalWidth': 0.2, 'species': 'setosa', 'sepal_area': 19.38, 'petal_area': 0.32000000000000006, 'toata_area': 6.201600000000001}\n",
        "{'sepalLength': 4.6, 'sepalWidth': 3.2, 'petalLength': 1.4, 'petalWidth': 0.2, 'species': 'setosa', 'sepal_area': 14.719999999999999, 'petal_area': 0.27999999999999997, 'toata_area': 4.121599999999999}\n",
        "{'sepalLength': 5.3, 'sepalWidth': 3.7, 'petalLength': 1.5, 'petalWidth': 0.2, 'species': 'setosa', 'sepal_area': 19.61, 'petal_area': 0.30000000000000004, 'toata_area': 5.883000000000001}\n",
        "{'sepalLength': 5.0, 'sepalWidth': 3.3, 'petalLength': 1.4, 'petalWidth': 0.2, 'species': 'setosa', 'sepal_area': 16.5, 'petal_area': 0.27999999999999997, 'toata_area': 4.619999999999999}"
      ],
      "metadata": {
        "id": "dUdhMdDvyNmF"
      }
    },
    {
      "cell_type": "code",
      "source": [
        "sepal_ar=[]\n",
        "petal_ar=[]\n",
        "species_list=[]\n",
        "for i in dct:\n",
        "  species_list.append(i['species'])\n",
        "species_list=list(set(species_list))\n",
        "for j in range (len(species_list)):\n",
        "  for k in dct:\n",
        "    if k['species']==species_list[j]:\n",
        "      sepal_ar.append(k['sepal_area'])\n",
        "      petal_ar.append(k['petal_area'])\n",
        "  print()\n",
        "  print(\"The minimum and maximum petal area of \",species_list[j],\" is \",round(min(petal_ar),2),\" and \",round(max(petal_ar)),\" respectively.\")\n",
        "  print(\"The minimum and maximum sepal area of \",species_list[j],\" is \",round(min(sepal_ar),2),\" and \",round(max(sepal_ar),2),\" respectively.\")\n",
        "  sepal_ar=[]\n",
        "  petal_ar=[]"
      ],
      "metadata": {
        "id": "ruyTPyOPyPRX"
      },
      "execution_count": null,
      "outputs": []
    },
    {
      "cell_type": "markdown",
      "source": [
        "The minimum and maximum petal area of  setosa  is  0.11  and  1  respectively.\n",
        "The minimum and maximum sepal area of  setosa  is  10.35  and  25.08  respectively.\n",
        "\n",
        "The minimum and maximum petal area of  versicolor  is  3.3  and  9  respectively.\n",
        "The minimum and maximum sepal area of  versicolor  is  10.0  and  22.4  respectively.\n",
        "\n",
        "The minimum and maximum petal area of  virginica  is  7.5  and  16  respectively.\n",
        "The minimum and maximum sepal area of  virginica  is  12.25  and  30.02  respectively."
      ],
      "metadata": {
        "id": "y3AzvteCyVYc"
      }
    },
    {
      "cell_type": "code",
      "source": [
        "sortedList = (sorted(sorted_list, key = lambda i:i['total_area'] ))\n",
        "for i in sortedList:\n",
        "  print(i)"
      ],
      "metadata": {
        "id": "UqgJ-egEyYCe"
      },
      "execution_count": null,
      "outputs": []
    },
    {
      "cell_type": "markdown",
      "source": [
        "{'sepalLength': 4.3, 'sepalWidth': 3.0, 'petalLength': 1.1, 'petalWidth': 0.1, 'species': 'setosa', 'sepal_area': 12.899999999999999, 'petal_area': 0.11000000000000001, 'toata_area': 1.419, 'total_area': 1.419}\n",
        "{'sepalLength': 4.8, 'sepalWidth': 3.0, 'petalLength': 1.4, 'petalWidth': 0.1, 'species': 'setosa', 'sepal_area': 14.399999999999999, 'petal_area': 0.13999999999999999, 'toata_area': 2.0159999999999996, 'total_area': 2.0159999999999996}\n",
        "{'sepalLength': 4.9, 'sepalWidth': 3.1, 'petalLength': 1.5, 'petalWidth': 0.1, 'species': 'setosa', 'sepal_area': 15.190000000000001, 'petal_area': 0.15000000000000002, 'toata_area': 2.2785000000000006, 'total_area': 2.2785000000000006}\n",
        "{'sepalLength': 4.9, 'sepalWidth': 3.6, 'petalLength': 1.4, 'petalWidth': 0.1, 'species': 'setosa', 'sepal_area': 17.64, 'petal_area': 0.13999999999999999, 'toata_area': 2.4696, 'total_area': 2.4696}\n",
        "{'sepalLength': 5.2, 'sepalWidth': 4.1, 'petalLength': 1.5, 'petalWidth': 0.1, 'species': 'setosa', 'sepal_area': 21.32, 'petal_area': 0.15000000000000002, 'toata_area': 3.1980000000000004, 'total_area': 3.1980000000000004}\n",
        "{'sepalLength': 4.6, 'sepalWidth': 3.6, 'petalLength': 1.0, 'petalWidth': 0.2, 'species': 'setosa', 'sepal_area': 16.56, 'petal_area': 0.2, 'toata_area': 3.312, 'total_area': 3.312}\n",
        "{'sepalLength': 4.4, 'sepalWidth': 3.0, 'petalLength': 1.3, 'petalWidth': 0.2, 'species': 'setosa', 'sepal_area': 13.200000000000001, 'petal_area': 0.26, 'toata_area': 3.4320000000000004, 'total_area': 3.4320000000000004}\n",
        "{'sepalLength': 4.4, 'sepalWidth': 2.9, 'petalLength': 1.4, 'petalWidth': 0.2, 'species': 'setosa', 'sepal_area': 12.76, 'petal_area': 0.27999999999999997, 'toata_area': 3.5727999999999995, 'total_area': 3.5727999999999995}\n",
        "{'sepalLength': 4.4, 'sepalWidth': 3.2, 'petalLength': 1.3, 'petalWidth': 0.2, 'species': 'setosa', 'sepal_area': 14.080000000000002, 'petal_area': 0.26, 'toata_area': 3.6608000000000005, 'total_area': 3.6608000000000005}\n",
        "{'sepalLength': 5.0, 'sepalWidth': 3.2, 'petalLength': 1.2, 'petalWidth': 0.2, 'species': 'setosa', 'sepal_area': 16.0, 'petal_area': 0.24, 'toata_area': 3.84, 'total_area': 3.84}\n",
        "{'sepalLength': 4.7, 'sepalWidth': 3.2, 'petalLength': 1.3, 'petalWidth': 0.2, 'species': 'setosa', 'sepal_area': 15.040000000000001, 'petal_area': 0.26, 'toata_area': 3.9104000000000005, 'total_area': 3.9104000000000005}\n",
        "{'sepalLength': 4.5, 'sepalWidth': 2.3, 'petalLength': 1.3, 'petalWidth': 0.3, 'species': 'setosa', 'sepal_area': 10.35, 'petal_area': 0.39, 'toata_area': 4.0365, 'total_area': 4.0365}\n",
        "{'sepalLength': 4.9, 'sepalWidth': 3.0, 'petalLength': 1.4, 'petalWidth': 0.2, 'species': 'setosa', 'sepal_area': 14.700000000000001, 'petal_area': 0.27999999999999997, 'toata_area': 4.116, 'total_area': 4.116}\n",
        "{'sepalLength': 4.6, 'sepalWidth': 3.2, 'petalLength': 1.4, 'petalWidth': 0.2, 'species': 'setosa', 'sepal_area': 14.719999999999999, 'petal_area': 0.27999999999999997, 'toata_area': 4.121599999999999, 'total_area': 4.121599999999999}\n",
        "{'sepalLength': 4.6, 'sepalWidth': 3.1, 'petalLength': 1.5, 'petalWidth': 0.2, 'species': 'setosa', 'sepal_area': 14.26, 'petal_area': 0.30000000000000004, 'toata_area': 4.2780000000000005, 'total_area': 4.2780000000000005}\n",
        "{'sepalLength': 4.9, 'sepalWidth': 3.1, 'petalLength': 1.5, 'petalWidth': 0.2, 'species': 'setosa', 'sepal_area': 15.190000000000001, 'petal_area': 0.30000000000000004, 'toata_area': 4.557000000000001, 'total_area': 4.557000000000001}\n",
        "{'sepalLength': 5.0, 'sepalWidth': 3.3, 'petalLength': 1.4, 'petalWidth': 0.2, 'species': 'setosa', 'sepal_area': 16.5, 'petal_area': 0.27999999999999997, 'toata_area': 4.619999999999999, 'total_area': 4.619999999999999}\n",
        "{'sepalLength': 4.8, 'sepalWidth': 3.1, 'petalLength': 1.6, 'petalWidth': 0.2, 'species': 'setosa', 'sepal_area': 14.879999999999999, 'petal_area': 0.32000000000000006, 'toata_area': 4.7616000000000005, 'total_area': 4.7616000000000005}\n",
        "{'sepalLength': 5.0, 'sepalWidth': 3.0, 'petalLength': 1.6, 'petalWidth': 0.2, 'species': 'setosa', 'sepal_area': 15.0, 'petal_area': 0.32000000000000006, 'toata_area': 4.800000000000001, 'total_area': 4.800000000000001}\n",
        "{'sepalLength': 4.7, 'sepalWidth': 3.2, 'petalLength': 1.6, 'petalWidth': 0.2, 'species': 'setosa', 'sepal_area': 15.040000000000001, 'petal_area': 0.32000000000000006, 'toata_area': 4.812800000000001, 'total_area': 4.812800000000001}\n",
        "{'sepalLength': 5.2, 'sepalWidth': 3.4, 'petalLength': 1.4, 'petalWidth': 0.2, 'species': 'setosa', 'sepal_area': 17.68, 'petal_area': 0.27999999999999997, 'toata_area': 4.950399999999999, 'total_area': 4.950399999999999}\n",
        "{'sepalLength': 5.1, 'sepalWidth': 3.5, 'petalLength': 1.4, 'petalWidth': 0.2, 'species': 'setosa', 'sepal_area': 17.849999999999998, 'petal_area': 0.27999999999999997, 'toata_area': 4.997999999999998, 'total_area': 4.997999999999998}\n",
        "{'sepalLength': 5.5, 'sepalWidth': 3.5, 'petalLength': 1.3, 'petalWidth': 0.2, 'species': 'setosa', 'sepal_area': 19.25, 'petal_area': 0.26, 'toata_area': 5.005, 'total_area': 5.005}\n",
        "{'sepalLength': 5.0, 'sepalWidth': 3.6, 'petalLength': 1.4, 'petalWidth': 0.2, 'species': 'setosa', 'sepal_area': 18.0, 'petal_area': 0.27999999999999997, 'toata_area': 5.039999999999999, 'total_area': 5.039999999999999}\n",
        "{'sepalLength': 5.0, 'sepalWidth': 3.4, 'petalLength': 1.5, 'petalWidth': 0.2, 'species': 'setosa', 'sepal_area': 17.0, 'petal_area': 0.30000000000000004, 'toata_area': 5.1000000000000005, 'total_area': 5.1000000000000005}\n",
        "{'sepalLength': 5.1, 'sepalWidth': 3.4, 'petalLength': 1.5, 'petalWidth': 0.2, 'species': 'setosa', 'sepal_area': 17.34, 'petal_area': 0.30000000000000004, 'toata_area': 5.202000000000001, 'total_area': 5.202000000000001}\n",
        "{'sepalLength': 4.8, 'sepalWidth': 3.4, 'petalLength': 1.6, 'petalWidth': 0.2, 'species': 'setosa', 'sepal_area': 16.32, 'petal_area': 0.32000000000000006, 'toata_area': 5.222400000000001, 'total_area': 5.222400000000001}\n",
        "{'sepalLength': 5.2, 'sepalWidth': 3.5, 'petalLength': 1.5, 'petalWidth': 0.2, 'species': 'setosa', 'sepal_area': 18.2, 'petal_area': 0.30000000000000004, 'toata_area': 5.460000000000001, 'total_area': 5.460000000000001}\n",
        "{'sepalLength': 5.8, 'sepalWidth': 4.0, 'petalLength': 1.2, 'petalWidth': 0.2, 'species': 'setosa', 'sepal_area': 23.2, 'petal_area': 0.24, 'toata_area': 5.568, 'total_area': 5.568}\n",
        "{'sepalLength': 5.3, 'sepalWidth': 3.7, 'petalLength': 1.5, 'petalWidth': 0.2, 'species': 'setosa', 'sepal_area': 19.61, 'petal_area': 0.30000000000000004, 'toata_area': 5.883000000000001, 'total_area': 5.883000000000001}\n",
        "{'sepalLength': 5.4, 'sepalWidth': 3.7, 'petalLength': 1.5, 'petalWidth': 0.2, 'species': 'setosa', 'sepal_area': 19.980000000000004, 'petal_area': 0.30000000000000004, 'toata_area': 5.994000000000002, 'total_area': 5.994000000000002}\n",
        "{'sepalLength': 4.8, 'sepalWidth': 3.0, 'petalLength': 1.4, 'petalWidth': 0.3, 'species': 'setosa', 'sepal_area': 14.399999999999999, 'petal_area': 0.42, 'toata_area': 6.047999999999999, 'total_area': 6.047999999999999}\n",
        "{'sepalLength': 4.8, 'sepalWidth': 3.4, 'petalLength': 1.9, 'petalWidth': 0.2, 'species': 'setosa', 'sepal_area': 16.32, 'petal_area': 0.38, 'toata_area': 6.2016, 'total_area': 6.2016}\n",
        "{'sepalLength': 5.1, 'sepalWidth': 3.8, 'petalLength': 1.6, 'petalWidth': 0.2, 'species': 'setosa', 'sepal_area': 19.38, 'petal_area': 0.32000000000000006, 'toata_area': 6.201600000000001, 'total_area': 6.201600000000001}\n",
        "{'sepalLength': 5.4, 'sepalWidth': 3.4, 'petalLength': 1.7, 'petalWidth': 0.2, 'species': 'setosa', 'sepal_area': 18.36, 'petal_area': 0.34, 'toata_area': 6.2424, 'total_area': 6.2424}\n",
        "{'sepalLength': 5.5, 'sepalWidth': 4.2, 'petalLength': 1.4, 'petalWidth': 0.2, 'species': 'setosa', 'sepal_area': 23.1, 'petal_area': 0.27999999999999997, 'toata_area': 6.468, 'total_area': 6.468}\n",
        "{'sepalLength': 4.6, 'sepalWidth': 3.4, 'petalLength': 1.4, 'petalWidth': 0.3, 'species': 'setosa', 'sepal_area': 15.639999999999999, 'petal_area': 0.42, 'toata_area': 6.5687999999999995, 'total_area': 6.5687999999999995}\n",
        "{'sepalLength': 5.0, 'sepalWidth': 3.5, 'petalLength': 1.3, 'petalWidth': 0.3, 'species': 'setosa', 'sepal_area': 17.5, 'petal_area': 0.39, 'toata_area': 6.825, 'total_area': 6.825}\n",
        "{'sepalLength': 5.1, 'sepalWidth': 3.5, 'petalLength': 1.4, 'petalWidth': 0.3, 'species': 'setosa', 'sepal_area': 17.849999999999998, 'petal_area': 0.42, 'toata_area': 7.496999999999999, 'total_area': 7.496999999999999}\n",
        "{'sepalLength': 5.1, 'sepalWidth': 3.8, 'petalLength': 1.5, 'petalWidth': 0.3, 'species': 'setosa', 'sepal_area': 19.38, 'petal_area': 0.44999999999999996, 'toata_area': 8.720999999999998, 'total_area': 8.720999999999998}\n",
        "{'sepalLength': 5.0, 'sepalWidth': 3.4, 'petalLength': 1.6, 'petalWidth': 0.4, 'species': 'setosa', 'sepal_area': 17.0, 'petal_area': 0.6400000000000001, 'toata_area': 10.880000000000003, 'total_area': 10.880000000000003}\n",
        "{'sepalLength': 5.4, 'sepalWidth': 3.9, 'petalLength': 1.3, 'petalWidth': 0.4, 'species': 'setosa', 'sepal_area': 21.060000000000002, 'petal_area': 0.52, 'toata_area': 10.951200000000002, 'total_area': 10.951200000000002}\n",
        "{'sepalLength': 5.4, 'sepalWidth': 3.4, 'petalLength': 1.5, 'petalWidth': 0.4, 'species': 'setosa', 'sepal_area': 18.36, 'petal_area': 0.6000000000000001, 'toata_area': 11.016000000000002, 'total_area': 11.016000000000002}\n",
        "{'sepalLength': 5.7, 'sepalWidth': 3.8, 'petalLength': 1.7, 'petalWidth': 0.3, 'species': 'setosa', 'sepal_area': 21.66, 'petal_area': 0.51, 'toata_area': 11.0466, 'total_area': 11.0466}\n",
        "{'sepalLength': 5.1, 'sepalWidth': 3.7, 'petalLength': 1.5, 'petalWidth': 0.4, 'species': 'setosa', 'sepal_area': 18.87, 'petal_area': 0.6000000000000001, 'toata_area': 11.322000000000003, 'total_area': 11.322000000000003}\n",
        "{'sepalLength': 5.1, 'sepalWidth': 3.3, 'petalLength': 1.7, 'petalWidth': 0.5, 'species': 'setosa', 'sepal_area': 16.83, 'petal_area': 0.85, 'toata_area': 14.305499999999999, 'total_area': 14.305499999999999}\n",
        "{'sepalLength': 5.4, 'sepalWidth': 3.9, 'petalLength': 1.7, 'petalWidth': 0.4, 'species': 'setosa', 'sepal_area': 21.060000000000002, 'petal_area': 0.68, 'toata_area': 14.320800000000002, 'total_area': 14.320800000000002}\n",
        "{'sepalLength': 5.1, 'sepalWidth': 3.8, 'petalLength': 1.9, 'petalWidth': 0.4, 'species': 'setosa', 'sepal_area': 19.38, 'petal_area': 0.76, 'toata_area': 14.7288, 'total_area': 14.7288}\n",
        "{'sepalLength': 5.7, 'sepalWidth': 4.4, 'petalLength': 1.5, 'petalWidth': 0.4, 'species': 'setosa', 'sepal_area': 25.080000000000002, 'petal_area': 0.6000000000000001, 'toata_area': 15.048000000000004, 'total_area': 15.048000000000004}\n",
        "{'sepalLength': 5.0, 'sepalWidth': 3.5, 'petalLength': 1.6, 'petalWidth': 0.6, 'species': 'setosa', 'sepal_area': 17.5, 'petal_area': 0.96, 'toata_area': 16.8, 'total_area': 16.8}\n",
        "{'sepalLength': 5.0, 'sepalWidth': 2.0, 'petalLength': 3.5, 'petalWidth': 1.0, 'species': 'versicolor', 'sepal_area': 10.0, 'petal_area': 3.5, 'toata_area': 35.0, 'total_area': 35.0}\n",
        "{'sepalLength': 5.0, 'sepalWidth': 2.3, 'petalLength': 3.3, 'petalWidth': 1.0, 'species': 'versicolor', 'sepal_area': 11.5, 'petal_area': 3.3, 'toata_area': 37.949999999999996, 'total_area': 37.949999999999996}\n",
        "{'sepalLength': 4.9, 'sepalWidth': 2.4, 'petalLength': 3.3, 'petalWidth': 1.0, 'species': 'versicolor', 'sepal_area': 11.76, 'petal_area': 3.3, 'toata_area': 38.808, 'total_area': 38.808}\n",
        "{'sepalLength': 5.1, 'sepalWidth': 2.5, 'petalLength': 3.0, 'petalWidth': 1.1, 'species': 'versicolor', 'sepal_area': 12.75, 'petal_area': 3.3000000000000003, 'toata_area': 42.075, 'total_area': 42.075}\n",
        "{'sepalLength': 5.5, 'sepalWidth': 2.4, 'petalLength': 3.7, 'petalWidth': 1.0, 'species': 'versicolor', 'sepal_area': 13.2, 'petal_area': 3.7, 'toata_area': 48.839999999999996, 'total_area': 48.839999999999996}\n",
        "{'sepalLength': 5.7, 'sepalWidth': 2.6, 'petalLength': 3.5, 'petalWidth': 1.0, 'species': 'versicolor', 'sepal_area': 14.82, 'petal_area': 3.5, 'toata_area': 51.870000000000005, 'total_area': 51.870000000000005}\n",
        "{'sepalLength': 6.0, 'sepalWidth': 2.2, 'petalLength': 4.0, 'petalWidth': 1.0, 'species': 'versicolor', 'sepal_area': 13.200000000000001, 'petal_area': 4.0, 'toata_area': 52.800000000000004, 'total_area': 52.800000000000004}\n",
        "{'sepalLength': 5.5, 'sepalWidth': 2.4, 'petalLength': 3.8, 'petalWidth': 1.1, 'species': 'versicolor', 'sepal_area': 13.2, 'petal_area': 4.18, 'toata_area': 55.175999999999995, 'total_area': 55.175999999999995}\n",
        "{'sepalLength': 5.6, 'sepalWidth': 2.5, 'petalLength': 3.9, 'petalWidth': 1.1, 'species': 'versicolor', 'sepal_area': 14.0, 'petal_area': 4.29, 'toata_area': 60.06, 'total_area': 60.06}\n",
        "{'sepalLength': 5.8, 'sepalWidth': 2.7, 'petalLength': 4.1, 'petalWidth': 1.0, 'species': 'versicolor', 'sepal_area': 15.66, 'petal_area': 4.1, 'toata_area': 64.20599999999999, 'total_area': 64.20599999999999}\n",
        "{'sepalLength': 5.5, 'sepalWidth': 2.3, 'petalLength': 4.0, 'petalWidth': 1.3, 'species': 'versicolor', 'sepal_area': 12.649999999999999, 'petal_area': 5.2, 'toata_area': 65.78, 'total_area': 65.78}\n",
        "{'sepalLength': 5.5, 'sepalWidth': 2.5, 'petalLength': 4.0, 'petalWidth': 1.3, 'species': 'versicolor', 'sepal_area': 13.75, 'petal_area': 5.2, 'toata_area': 71.5, 'total_area': 71.5}\n",
        "{'sepalLength': 5.8, 'sepalWidth': 2.6, 'petalLength': 4.0, 'petalWidth': 1.2, 'species': 'versicolor', 'sepal_area': 15.08, 'petal_area': 4.8, 'toata_area': 72.384, 'total_area': 72.384}\n",
        "{'sepalLength': 5.8, 'sepalWidth': 2.7, 'petalLength': 3.9, 'petalWidth': 1.2, 'species': 'versicolor', 'sepal_area': 15.66, 'petal_area': 4.68, 'toata_area': 73.2888, 'total_area': 73.2888}\n",
        "{'sepalLength': 5.5, 'sepalWidth': 2.6, 'petalLength': 4.4, 'petalWidth': 1.2, 'species': 'versicolor', 'sepal_area': 14.3, 'petal_area': 5.28, 'toata_area': 75.504, 'total_area': 75.504}\n",
        "{'sepalLength': 5.6, 'sepalWidth': 2.9, 'petalLength': 3.6, 'petalWidth': 1.3, 'species': 'versicolor', 'sepal_area': 16.24, 'petal_area': 4.680000000000001, 'toata_area': 76.0032, 'total_area': 76.0032}\n",
        "{'sepalLength': 5.2, 'sepalWidth': 2.7, 'petalLength': 3.9, 'petalWidth': 1.4, 'species': 'versicolor', 'sepal_area': 14.040000000000001, 'petal_area': 5.46, 'toata_area': 76.6584, 'total_area': 76.6584}\n",
        "{'sepalLength': 5.6, 'sepalWidth': 2.7, 'petalLength': 4.2, 'petalWidth': 1.3, 'species': 'versicolor', 'sepal_area': 15.12, 'petal_area': 5.460000000000001, 'toata_area': 82.55520000000001, 'total_area': 82.55520000000001}\n",
        "{'sepalLength': 6.3, 'sepalWidth': 2.3, 'petalLength': 4.4, 'petalWidth': 1.3, 'species': 'versicolor', 'sepal_area': 14.489999999999998, 'petal_area': 5.720000000000001, 'toata_area': 82.8828, 'total_area': 82.8828}\n",
        "{'sepalLength': 5.7, 'sepalWidth': 2.8, 'petalLength': 4.1, 'petalWidth': 1.3, 'species': 'versicolor', 'sepal_area': 15.959999999999999, 'petal_area': 5.33, 'toata_area': 85.0668, 'total_area': 85.0668}\n",
        "{'sepalLength': 5.7, 'sepalWidth': 3.0, 'petalLength': 4.2, 'petalWidth': 1.2, 'species': 'versicolor', 'sepal_area': 17.1, 'petal_area': 5.04, 'toata_area': 86.18400000000001, 'total_area': 86.18400000000001}\n",
        "{'sepalLength': 6.1, 'sepalWidth': 2.8, 'petalLength': 4.0, 'petalWidth': 1.3, 'species': 'versicolor', 'sepal_area': 17.08, 'petal_area': 5.2, 'toata_area': 88.81599999999999, 'total_area': 88.81599999999999}\n",
        "{'sepalLength': 5.6, 'sepalWidth': 3.0, 'petalLength': 4.1, 'petalWidth': 1.3, 'species': 'versicolor', 'sepal_area': 16.799999999999997, 'petal_area': 5.33, 'toata_area': 89.54399999999998, 'total_area': 89.54399999999998}\n",
        "{'sepalLength': 5.7, 'sepalWidth': 2.9, 'petalLength': 4.2, 'petalWidth': 1.3, 'species': 'versicolor', 'sepal_area': 16.53, 'petal_area': 5.460000000000001, 'toata_area': 90.25380000000003, 'total_area': 90.25380000000003}\n",
        "{'sepalLength': 6.2, 'sepalWidth': 2.2, 'petalLength': 4.5, 'petalWidth': 1.5, 'species': 'versicolor', 'sepal_area': 13.640000000000002, 'petal_area': 6.75, 'toata_area': 92.07000000000002, 'total_area': 92.07000000000002}\n",
        "{'sepalLength': 5.7, 'sepalWidth': 2.8, 'petalLength': 4.5, 'petalWidth': 1.3, 'species': 'versicolor', 'sepal_area': 15.959999999999999, 'petal_area': 5.8500000000000005, 'toata_area': 93.366, 'total_area': 93.366}\n",
        "{'sepalLength': 4.9, 'sepalWidth': 2.5, 'petalLength': 4.5, 'petalWidth': 1.7, 'species': 'virginica', 'sepal_area': 12.25, 'petal_area': 7.6499999999999995, 'toata_area': 93.71249999999999, 'total_area': 93.71249999999999}\n",
        "{'sepalLength': 6.1, 'sepalWidth': 2.8, 'petalLength': 4.7, 'petalWidth': 1.2, 'species': 'versicolor', 'sepal_area': 17.08, 'petal_area': 5.64, 'toata_area': 96.33119999999998, 'total_area': 96.33119999999998}\n",
        "{'sepalLength': 6.0, 'sepalWidth': 2.2, 'petalLength': 5.0, 'petalWidth': 1.5, 'species': 'virginica', 'sepal_area': 13.200000000000001, 'petal_area': 7.5, 'toata_area': 99.00000000000001, 'total_area': 99.00000000000001}\n",
        "{'sepalLength': 6.2, 'sepalWidth': 2.9, 'petalLength': 4.3, 'petalWidth': 1.3, 'species': 'versicolor', 'sepal_area': 17.98, 'petal_area': 5.59, 'toata_area': 100.5082, 'total_area': 100.5082}\n",
        "{'sepalLength': 6.4, 'sepalWidth': 2.9, 'petalLength': 4.3, 'petalWidth': 1.3, 'species': 'versicolor', 'sepal_area': 18.56, 'petal_area': 5.59, 'toata_area': 103.75039999999998, 'total_area': 103.75039999999998}\n",
        "{'sepalLength': 5.4, 'sepalWidth': 3.0, 'petalLength': 4.5, 'petalWidth': 1.5, 'species': 'versicolor', 'sepal_area': 16.200000000000003, 'petal_area': 6.75, 'toata_area': 109.35000000000002, 'total_area': 109.35000000000002}\n",
        "{'sepalLength': 5.9, 'sepalWidth': 3.0, 'petalLength': 4.2, 'petalWidth': 1.5, 'species': 'versicolor', 'sepal_area': 17.700000000000003, 'petal_area': 6.300000000000001, 'toata_area': 111.51000000000003, 'total_area': 111.51000000000003}\n",
        "{'sepalLength': 5.6, 'sepalWidth': 3.0, 'petalLength': 4.5, 'petalWidth': 1.5, 'species': 'versicolor', 'sepal_area': 16.799999999999997, 'petal_area': 6.75, 'toata_area': 113.39999999999998, 'total_area': 113.39999999999998}\n",
        "{'sepalLength': 6.6, 'sepalWidth': 2.9, 'petalLength': 4.6, 'petalWidth': 1.3, 'species': 'versicolor', 'sepal_area': 19.139999999999997, 'petal_area': 5.9799999999999995, 'toata_area': 114.45719999999997, 'total_area': 114.45719999999997}\n",
        "{'sepalLength': 6.3, 'sepalWidth': 2.5, 'petalLength': 4.9, 'petalWidth': 1.5, 'species': 'versicolor', 'sepal_area': 15.75, 'petal_area': 7.3500000000000005, 'toata_area': 115.7625, 'total_area': 115.7625}\n",
        "{'sepalLength': 6.1, 'sepalWidth': 2.9, 'petalLength': 4.7, 'petalWidth': 1.4, 'species': 'versicolor', 'sepal_area': 17.689999999999998, 'petal_area': 6.58, 'toata_area': 116.40019999999998, 'total_area': 116.40019999999998}\n",
        "{'sepalLength': 6.0, 'sepalWidth': 2.9, 'petalLength': 4.5, 'petalWidth': 1.5, 'species': 'versicolor', 'sepal_area': 17.4, 'petal_area': 6.75, 'toata_area': 117.44999999999999, 'total_area': 117.44999999999999}\n",
        "{'sepalLength': 6.1, 'sepalWidth': 3.0, 'petalLength': 4.6, 'petalWidth': 1.4, 'species': 'versicolor', 'sepal_area': 18.299999999999997, 'petal_area': 6.4399999999999995, 'toata_area': 117.85199999999998, 'total_area': 117.85199999999998}\n",
        "{'sepalLength': 6.6, 'sepalWidth': 3.0, 'petalLength': 4.4, 'petalWidth': 1.4, 'species': 'versicolor', 'sepal_area': 19.799999999999997, 'petal_area': 6.16, 'toata_area': 121.96799999999999, 'total_area': 121.96799999999999}\n",
        "{'sepalLength': 6.1, 'sepalWidth': 2.6, 'petalLength': 5.6, 'petalWidth': 1.4, 'species': 'virginica', 'sepal_area': 15.86, 'petal_area': 7.839999999999999, 'toata_area': 124.34239999999998, 'total_area': 124.34239999999998}\n",
        "{'sepalLength': 6.5, 'sepalWidth': 2.8, 'petalLength': 4.6, 'petalWidth': 1.5, 'species': 'versicolor', 'sepal_area': 18.2, 'petal_area': 6.8999999999999995, 'toata_area': 125.57999999999998, 'total_area': 125.57999999999998}\n",
        "{'sepalLength': 6.7, 'sepalWidth': 3.1, 'petalLength': 4.4, 'petalWidth': 1.4, 'species': 'versicolor', 'sepal_area': 20.77, 'petal_area': 6.16, 'toata_area': 127.9432, 'total_area': 127.9432}\n",
        "{'sepalLength': 6.8, 'sepalWidth': 2.8, 'petalLength': 4.8, 'petalWidth': 1.4, 'species': 'versicolor', 'sepal_area': 19.04, 'petal_area': 6.72, 'toata_area': 127.94879999999999, 'total_area': 127.94879999999999}\n",
        "{'sepalLength': 6.0, 'sepalWidth': 2.7, 'petalLength': 5.1, 'petalWidth': 1.6, 'species': 'versicolor', 'sepal_area': 16.200000000000003, 'petal_area': 8.16, 'toata_area': 132.19200000000004, 'total_area': 132.19200000000004}\n",
        "{'sepalLength': 6.3, 'sepalWidth': 2.8, 'petalLength': 5.1, 'petalWidth': 1.5, 'species': 'virginica', 'sepal_area': 17.639999999999997, 'petal_area': 7.6499999999999995, 'toata_area': 134.94599999999997, 'total_area': 134.94599999999997}\n",
        "{'sepalLength': 6.4, 'sepalWidth': 3.2, 'petalLength': 4.5, 'petalWidth': 1.5, 'species': 'versicolor', 'sepal_area': 20.480000000000004, 'petal_area': 6.75, 'toata_area': 138.24000000000004, 'total_area': 138.24000000000004}\n",
        "{'sepalLength': 5.7, 'sepalWidth': 2.5, 'petalLength': 5.0, 'petalWidth': 2.0, 'species': 'virginica', 'sepal_area': 14.25, 'petal_area': 10.0, 'toata_area': 142.5, 'total_area': 142.5}\n",
        "{'sepalLength': 6.7, 'sepalWidth': 3.1, 'petalLength': 4.7, 'petalWidth': 1.5, 'species': 'versicolor', 'sepal_area': 20.77, 'petal_area': 7.050000000000001, 'toata_area': 146.4285, 'total_area': 146.4285}\n",
        "{'sepalLength': 6.0, 'sepalWidth': 3.4, 'petalLength': 4.5, 'petalWidth': 1.6, 'species': 'versicolor', 'sepal_area': 20.4, 'petal_area': 7.2, 'toata_area': 146.88, 'total_area': 146.88}\n",
        "{'sepalLength': 7.0, 'sepalWidth': 3.2, 'petalLength': 4.7, 'petalWidth': 1.4, 'species': 'versicolor', 'sepal_area': 22.400000000000002, 'petal_area': 6.58, 'toata_area': 147.39200000000002, 'total_area': 147.39200000000002}\n",
        "{'sepalLength': 6.3, 'sepalWidth': 2.5, 'petalLength': 5.0, 'petalWidth': 1.9, 'species': 'virginica', 'sepal_area': 15.75, 'petal_area': 9.5, 'toata_area': 149.625, 'total_area': 149.625}\n",
        "{'sepalLength': 6.2, 'sepalWidth': 2.8, 'petalLength': 4.8, 'petalWidth': 1.8, 'species': 'virginica', 'sepal_area': 17.36, 'petal_area': 8.64, 'toata_area': 149.9904, 'total_area': 149.9904}\n",
        "{'sepalLength': 6.3, 'sepalWidth': 2.7, 'petalLength': 4.9, 'petalWidth': 1.8, 'species': 'virginica', 'sepal_area': 17.01, 'petal_area': 8.82, 'toata_area': 150.02820000000003, 'total_area': 150.02820000000003}\n",
        "{'sepalLength': 5.8, 'sepalWidth': 2.7, 'petalLength': 5.1, 'petalWidth': 1.9, 'species': 'virginica', 'sepal_area': 15.66, 'petal_area': 9.69, 'toata_area': 151.7454, 'total_area': 151.7454}\n",
        "{'sepalLength': 5.8, 'sepalWidth': 2.7, 'petalLength': 5.1, 'petalWidth': 1.9, 'species': 'virginica', 'sepal_area': 15.66, 'petal_area': 9.69, 'toata_area': 151.7454, 'total_area': 151.7454}\n",
        "{'sepalLength': 5.6, 'sepalWidth': 2.8, 'petalLength': 4.9, 'petalWidth': 2.0, 'species': 'virginica', 'sepal_area': 15.679999999999998, 'petal_area': 9.8, 'toata_area': 153.664, 'total_area': 153.664}\n",
        "{'sepalLength': 6.0, 'sepalWidth': 3.0, 'petalLength': 4.8, 'petalWidth': 1.8, 'species': 'virginica', 'sepal_area': 18.0, 'petal_area': 8.64, 'toata_area': 155.52, 'total_area': 155.52}\n",
        "{'sepalLength': 6.3, 'sepalWidth': 3.3, 'petalLength': 4.7, 'petalWidth': 1.6, 'species': 'versicolor', 'sepal_area': 20.79, 'petal_area': 7.5200000000000005, 'toata_area': 156.3408, 'total_area': 156.3408}\n",
        "{'sepalLength': 6.9, 'sepalWidth': 3.1, 'petalLength': 4.9, 'petalWidth': 1.5, 'species': 'versicolor', 'sepal_area': 21.39, 'petal_area': 7.3500000000000005, 'toata_area': 157.21650000000002, 'total_area': 157.21650000000002}\n",
        "{'sepalLength': 6.1, 'sepalWidth': 3.0, 'petalLength': 4.9, 'petalWidth': 1.8, 'species': 'virginica', 'sepal_area': 18.299999999999997, 'petal_area': 8.82, 'toata_area': 161.40599999999998, 'total_area': 161.40599999999998}\n",
        "{'sepalLength': 5.9, 'sepalWidth': 3.0, 'petalLength': 5.1, 'petalWidth': 1.8, 'species': 'virginica', 'sepal_area': 17.700000000000003, 'petal_area': 9.18, 'toata_area': 162.48600000000002, 'total_area': 162.48600000000002}\n",
        "{'sepalLength': 5.9, 'sepalWidth': 3.2, 'petalLength': 4.8, 'petalWidth': 1.8, 'species': 'versicolor', 'sepal_area': 18.880000000000003, 'petal_area': 8.64, 'toata_area': 163.12320000000003, 'total_area': 163.12320000000003}\n",
        "{'sepalLength': 6.7, 'sepalWidth': 3.0, 'petalLength': 5.0, 'petalWidth': 1.7, 'species': 'versicolor', 'sepal_area': 20.1, 'petal_area': 8.5, 'toata_area': 170.85000000000002, 'total_area': 170.85000000000002}\n",
        "{'sepalLength': 6.4, 'sepalWidth': 2.7, 'petalLength': 5.3, 'petalWidth': 1.9, 'species': 'virginica', 'sepal_area': 17.28, 'petal_area': 10.069999999999999, 'toata_area': 174.00959999999998, 'total_area': 174.00959999999998}\n",
        "{'sepalLength': 6.7, 'sepalWidth': 2.5, 'petalLength': 5.8, 'petalWidth': 1.8, 'species': 'virginica', 'sepal_area': 16.75, 'petal_area': 10.44, 'toata_area': 174.87, 'total_area': 174.87}\n",
        "{'sepalLength': 6.3, 'sepalWidth': 2.9, 'petalLength': 5.6, 'petalWidth': 1.8, 'species': 'virginica', 'sepal_area': 18.27, 'petal_area': 10.08, 'toata_area': 184.1616, 'total_area': 184.1616}\n",
        "{'sepalLength': 6.5, 'sepalWidth': 3.0, 'petalLength': 5.5, 'petalWidth': 1.8, 'species': 'virginica', 'sepal_area': 19.5, 'petal_area': 9.9, 'toata_area': 193.05, 'total_area': 193.05}\n",
        "{'sepalLength': 6.4, 'sepalWidth': 3.1, 'petalLength': 5.5, 'petalWidth': 1.8, 'species': 'virginica', 'sepal_area': 19.840000000000003, 'petal_area': 9.9, 'toata_area': 196.41600000000005, 'total_area': 196.41600000000005}\n",
        "{'sepalLength': 5.8, 'sepalWidth': 2.8, 'petalLength': 5.1, 'petalWidth': 2.4, 'species': 'virginica', 'sepal_area': 16.24, 'petal_area': 12.239999999999998, 'toata_area': 198.77759999999995, 'total_area': 198.77759999999995}\n",
        "{'sepalLength': 7.2, 'sepalWidth': 3.0, 'petalLength': 5.8, 'petalWidth': 1.6, 'species': 'virginica', 'sepal_area': 21.6, 'petal_area': 9.28, 'toata_area': 200.448, 'total_area': 200.448}\n",
        "{'sepalLength': 6.5, 'sepalWidth': 3.0, 'petalLength': 5.2, 'petalWidth': 2.0, 'species': 'virginica', 'sepal_area': 19.5, 'petal_area': 10.4, 'toata_area': 202.8, 'total_area': 202.8}\n",
        "{'sepalLength': 6.4, 'sepalWidth': 2.8, 'petalLength': 5.6, 'petalWidth': 2.1, 'species': 'virginica', 'sepal_area': 17.919999999999998, 'petal_area': 11.76, 'toata_area': 210.73919999999998, 'total_area': 210.73919999999998}\n",
        "{'sepalLength': 6.5, 'sepalWidth': 3.2, 'petalLength': 5.1, 'petalWidth': 2.0, 'species': 'virginica', 'sepal_area': 20.8, 'petal_area': 10.2, 'toata_area': 212.16, 'total_area': 212.16}\n",
        "{'sepalLength': 6.4, 'sepalWidth': 2.8, 'petalLength': 5.6, 'petalWidth': 2.2, 'species': 'virginica', 'sepal_area': 17.919999999999998, 'petal_area': 12.32, 'toata_area': 220.77439999999999, 'total_area': 220.77439999999999}\n",
        "{'sepalLength': 6.8, 'sepalWidth': 3.0, 'petalLength': 5.5, 'petalWidth': 2.1, 'species': 'virginica', 'sepal_area': 20.4, 'petal_area': 11.55, 'toata_area': 235.62, 'total_area': 235.62}\n",
        "{'sepalLength': 7.3, 'sepalWidth': 2.9, 'petalLength': 6.3, 'petalWidth': 1.8, 'species': 'virginica', 'sepal_area': 21.169999999999998, 'petal_area': 11.34, 'toata_area': 240.06779999999998, 'total_area': 240.06779999999998}\n",
        "{'sepalLength': 7.4, 'sepalWidth': 2.8, 'petalLength': 6.1, 'petalWidth': 1.9, 'species': 'virginica', 'sepal_area': 20.72, 'petal_area': 11.589999999999998, 'toata_area': 240.14479999999995, 'total_area': 240.14479999999995}\n",
        "{'sepalLength': 6.7, 'sepalWidth': 3.0, 'petalLength': 5.2, 'petalWidth': 2.3, 'species': 'virginica', 'sepal_area': 20.1, 'petal_area': 11.959999999999999, 'toata_area': 240.396, 'total_area': 240.396}\n",
        "{'sepalLength': 6.9, 'sepalWidth': 3.1, 'petalLength': 5.4, 'petalWidth': 2.1, 'species': 'virginica', 'sepal_area': 21.39, 'petal_area': 11.340000000000002, 'toata_area': 242.56260000000003, 'total_area': 242.56260000000003}\n",
        "{'sepalLength': 6.5, 'sepalWidth': 3.0, 'petalLength': 5.8, 'petalWidth': 2.2, 'species': 'virginica', 'sepal_area': 19.5, 'petal_area': 12.76, 'toata_area': 248.82, 'total_area': 248.82}\n",
        "{'sepalLength': 7.2, 'sepalWidth': 3.2, 'petalLength': 6.0, 'petalWidth': 1.8, 'species': 'virginica', 'sepal_area': 23.040000000000003, 'petal_area': 10.8, 'toata_area': 248.83200000000005, 'total_area': 248.83200000000005}\n",
        "{'sepalLength': 6.4, 'sepalWidth': 3.2, 'petalLength': 5.3, 'petalWidth': 2.3, 'species': 'virginica', 'sepal_area': 20.480000000000004, 'petal_area': 12.19, 'toata_area': 249.65120000000005, 'total_area': 249.65120000000005}\n",
        "{'sepalLength': 6.9, 'sepalWidth': 3.1, 'petalLength': 5.1, 'petalWidth': 2.3, 'species': 'virginica', 'sepal_area': 21.39, 'petal_area': 11.729999999999999, 'toata_area': 250.9047, 'total_area': 250.9047}\n",
        "{'sepalLength': 6.2, 'sepalWidth': 3.4, 'petalLength': 5.4, 'petalWidth': 2.3, 'species': 'virginica', 'sepal_area': 21.08, 'petal_area': 12.42, 'toata_area': 261.81359999999995, 'total_area': 261.81359999999995}\n",
        "{'sepalLength': 7.1, 'sepalWidth': 3.0, 'petalLength': 5.9, 'petalWidth': 2.1, 'species': 'virginica', 'sepal_area': 21.299999999999997, 'petal_area': 12.39, 'toata_area': 263.907, 'total_area': 263.907}\n",
        "{'sepalLength': 6.7, 'sepalWidth': 3.3, 'petalLength': 5.7, 'petalWidth': 2.1, 'species': 'virginica', 'sepal_area': 22.11, 'petal_area': 11.97, 'toata_area': 264.6567, 'total_area': 264.6567}\n",
        "{'sepalLength': 6.7, 'sepalWidth': 3.1, 'petalLength': 5.6, 'petalWidth': 2.4, 'species': 'virginica', 'sepal_area': 20.77, 'petal_area': 13.44, 'toata_area': 279.1488, 'total_area': 279.1488}\n",
        "{'sepalLength': 6.3, 'sepalWidth': 3.4, 'petalLength': 5.6, 'petalWidth': 2.4, 'species': 'virginica', 'sepal_area': 21.419999999999998, 'petal_area': 13.44, 'toata_area': 287.8848, 'total_area': 287.8848}\n",
        "{'sepalLength': 7.7, 'sepalWidth': 2.8, 'petalLength': 6.7, 'petalWidth': 2.0, 'species': 'virginica', 'sepal_area': 21.56, 'petal_area': 13.4, 'toata_area': 288.904, 'total_area': 288.904}\n",
        "{'sepalLength': 6.9, 'sepalWidth': 3.2, 'petalLength': 5.7, 'petalWidth': 2.3, 'species': 'virginica', 'sepal_area': 22.080000000000002, 'petal_area': 13.11, 'toata_area': 289.4688, 'total_area': 289.4688}\n",
        "{'sepalLength': 6.8, 'sepalWidth': 3.2, 'petalLength': 5.9, 'petalWidth': 2.3, 'species': 'virginica', 'sepal_area': 21.76, 'petal_area': 13.57, 'toata_area': 295.2832, 'total_area': 295.2832}\n",
        "{'sepalLength': 6.3, 'sepalWidth': 3.3, 'petalLength': 6.0, 'petalWidth': 2.5, 'species': 'virginica', 'sepal_area': 20.79, 'petal_area': 15.0, 'toata_area': 311.84999999999997, 'total_area': 311.84999999999997}\n",
        "{'sepalLength': 6.7, 'sepalWidth': 3.3, 'petalLength': 5.7, 'petalWidth': 2.5, 'species': 'virginica', 'sepal_area': 22.11, 'petal_area': 14.25, 'toata_area': 315.0675, 'total_area': 315.0675}\n",
        "{'sepalLength': 7.6, 'sepalWidth': 3.0, 'petalLength': 6.6, 'petalWidth': 2.1, 'species': 'virginica', 'sepal_area': 22.799999999999997, 'petal_area': 13.86, 'toata_area': 316.0079999999999, 'total_area': 316.0079999999999}\n",
        "{'sepalLength': 7.7, 'sepalWidth': 2.6, 'petalLength': 6.9, 'petalWidth': 2.3, 'species': 'virginica', 'sepal_area': 20.02, 'petal_area': 15.87, 'toata_area': 317.7174, 'total_area': 317.7174}\n",
        "{'sepalLength': 7.7, 'sepalWidth': 3.0, 'petalLength': 6.1, 'petalWidth': 2.3, 'species': 'virginica', 'sepal_area': 23.1, 'petal_area': 14.029999999999998, 'toata_area': 324.09299999999996, 'total_area': 324.09299999999996}\n",
        "{'sepalLength': 7.9, 'sepalWidth': 3.8, 'petalLength': 6.4, 'petalWidth': 2.0, 'species': 'virginica', 'sepal_area': 30.02, 'petal_area': 12.8, 'toata_area': 384.25600000000003, 'total_area': 384.25600000000003}\n",
        "{'sepalLength': 7.2, 'sepalWidth': 3.6, 'petalLength': 6.1, 'petalWidth': 2.5, 'species': 'virginica', 'sepal_area': 25.92, 'petal_area': 15.25, 'toata_area': 395.28000000000003, 'total_area': 395.28000000000003}\n",
        "{'sepalLength': 7.7, 'sepalWidth': 3.8, 'petalLength': 6.7, 'petalWidth': 2.2, 'species': 'virginica', 'sepal_area': 29.259999999999998, 'petal_area': 14.740000000000002, 'toata_area': 431.29240000000004, 'total_area': 431.29240000000004}"
      ],
      "metadata": {
        "id": "f5y_De9eylAw"
      }
    }
  ]
}