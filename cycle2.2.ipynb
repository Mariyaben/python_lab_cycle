{
  "nbformat": 4,
  "nbformat_minor": 0,
  "metadata": {
    "colab": {
      "name": "Untitled12.ipynb",
      "provenance": [],
      "authorship_tag": "ABX9TyNdJFrLB5Von+go3QpD+ZJp",
      "include_colab_link": true
    },
    "kernelspec": {
      "name": "python3",
      "display_name": "Python 3"
    },
    "language_info": {
      "name": "python"
    }
  },
  "cells": [
    {
      "cell_type": "markdown",
      "metadata": {
        "id": "view-in-github",
        "colab_type": "text"
      },
      "source": [
        "<a href=\"https://colab.research.google.com/github/Mariyaben/python_lab_cycle/blob/main/cycle2.2.ipynb\" target=\"_parent\"><img src=\"https://colab.research.google.com/assets/colab-badge.svg\" alt=\"Open In Colab\"/></a>"
      ]
    },
    {
      "cell_type": "markdown",
      "source": [
        "2. \n",
        "Write a program to read a string containing numbers separated by a space and convert it as a list of integers. Perform the following operations on it.\n",
        "\n",
        "A. Rotate elements in a list by 'k' position to the right\n",
        "\n",
        "B. Convert the list into a tuple using list comprehension\n",
        "\n",
        "C. Remove all duplicates from the tuple and convert them into a list again.\n",
        "\n",
        "D. Create another list by putting the results of the evaluation of the function 𝑓(𝑥) = (𝑥^2 – 𝑥) with each element in the final list\n",
        "\n",
        "E. After sorting them individually, merge the two lists to create a single sorted list."
      ],
      "metadata": {
        "id": "EmodK7FSZN_s"
      }
    },
    {
      "cell_type": "code",
      "execution_count": 1,
      "metadata": {
        "colab": {
          "base_uri": "https://localhost:8080/"
        },
        "id": "GYYSemkIZD7s",
        "outputId": "c05565ef-a1c6-4bb7-b14f-53d022c66dc4"
      },
      "outputs": [
        {
          "output_type": "stream",
          "name": "stdout",
          "text": [
            "Enter the list of numbers : 11 12 13 14 15\n",
            "List of integers =  [11, 12, 13, 14, 15]\n",
            "Enter value by which you wish to rotate: 5\n",
            "After rotating   : [11, 12, 13, 14, 15]\n",
            "Converting list to Tuple =  (11, 12, 13, 14, 15)\n",
            "Converting tuple to list after removing all the duplicates  = [11, 12, 13, 14, 15]\n",
            "Results of evaluation of the function  = [110, 132, 156, 182, 210]\n",
            "Final Sorted List  = [11, 12, 13, 14, 15, 110, 132, 156, 182, 210]\n"
          ]
        }
      ],
      "source": [
        "s_no = input(\"Enter the list of numbers : \")\n",
        "l_no = list(s_no.split(\" \"))\n",
        "\n",
        "\n",
        "int_list = []\n",
        "for i in l_no:\n",
        "  int_list.append(int(i))\n",
        "print(\"List of integers = \",int_list)\n",
        "\n",
        "a = int(input(\"Enter value by which you wish to rotate: \"))\n",
        "print(\"After rotating  \",end = \" : \")\n",
        "print(int_list[-a:]+int_list[:-a])\n",
        "\n",
        "int_tuple =  tuple(int_list)\n",
        "print(\"Converting list to Tuple = \",int_tuple)\n",
        "\n",
        "int_tuple = tuple(set(int_tuple))\n",
        "int_list = list(int_tuple)\n",
        "print(\"Converting tuple to list after removing all the duplicates \",end = \" = \")\n",
        "print(int_list)\n",
        "\n",
        "square = []\n",
        "for i in int_list:\n",
        "  square.append((i**2)-i)\n",
        "print(\"Results of evaluation of the function \",end = \" = \")\n",
        "print(square)\n",
        "\n",
        "\n",
        "sorted_list = int_list + square\n",
        "sorted_list.sort()\n",
        "print(\"Final Sorted List \",end = \" = \")\n",
        "print(sorted_list)"
      ]
    }
  ]
}