{
  "nbformat": 4,
  "nbformat_minor": 0,
  "metadata": {
    "colab": {
      "name": "Untitled14.ipynb",
      "provenance": [],
      "authorship_tag": "ABX9TyPjgRA9UdM5AJUPOs1pmSEC",
      "include_colab_link": true
    },
    "kernelspec": {
      "name": "python3",
      "display_name": "Python 3"
    },
    "language_info": {
      "name": "python"
    }
  },
  "cells": [
    {
      "cell_type": "markdown",
      "metadata": {
        "id": "view-in-github",
        "colab_type": "text"
      },
      "source": [
        "<a href=\"https://colab.research.google.com/github/Mariyaben/python_lab_cycle/blob/main/cycle2.4.ipynb\" target=\"_parent\"><img src=\"https://colab.research.google.com/assets/colab-badge.svg\" alt=\"Open In Colab\"/></a>"
      ]
    },
    {
      "cell_type": "markdown",
      "source": [
        "4. Write a program to create a class Box with data members length, breadth, height, area, and volume. Provider constructor that enables initialization with one parameter (for cube), two parameters (for square prism) three parameters (rectangular prism). Also, provide functions to calculate area and volume. Create a list of N boxes with random measurements and print the details of the box with maximum volume: area ratio."
      ],
      "metadata": {
        "id": "JT0DafFf05TX"
      }
    },
    {
      "cell_type": "code",
      "execution_count": null,
      "metadata": {
        "id": "b-07a81lrH2e"
      },
      "outputs": [],
      "source": [
        "import random\n",
        "\n",
        "\n",
        "class Box:\n",
        "    def __init__(self, *args):\n",
        "        if len(args) == 1:\n",
        "            self.__l = args[0]\n",
        "            self.__b = args[0]\n",
        "            self.__h = args[0]\n",
        "\n",
        "        elif len(args) == 2:\n",
        "            self.__l = args[0]\n",
        "            self.__b = args[0]\n",
        "            self.__h = args[1]\n",
        "\n",
        "        else:\n",
        "            self.__l = args[0]\n",
        "            self.__b = args[1]\n",
        "            self.__h = args[2]\n",
        "\n",
        "    def calc_area(self):\n",
        "        self.__area = self.__l * self.__b\n",
        "        return self.__area\n",
        "\n",
        "    def calc_volume(self):\n",
        "        self.__volume = self.__l * self.__b * self.__h\n",
        "        return self.__volume\n",
        "\n",
        "    def display_area(self):\n",
        "        print(\"The area is \", self.__area)\n",
        "\n",
        "    def display_volume(self):\n",
        "        print(\"The volume is \", self.__volume, \"\\n\")\n",
        "\n",
        "\n",
        "ratio = []\n",
        "\n",
        "cube_dimension = []\n",
        "cube_dimension.append(random.randint(1, 1000))\n",
        "print(\"Cube Prism - Dimension\", end=\" \")\n",
        "print(cube_dimension)\n",
        "\n",
        "cube_prism = Box(cube_dimension[0])\n",
        "area1 = cube_prism.calc_area()\n",
        "volume1 = cube_prism.calc_volume()\n",
        "cube_prism.display_area()\n",
        "cube_prism.display_volume()\n",
        "\n",
        "ratio.append((volume1 / area1))\n",
        "\n",
        "square_dimension = []\n",
        "for i in range(2):\n",
        "    square_dimension.append(random.randint(1, 1000))\n",
        "print(\"Square Prism - Dimension\", end=\" \")\n",
        "print(square_dimension)\n",
        "\n",
        "square_prism = Box(square_dimension[0], square_dimension[1])\n",
        "area2 = square_prism.calc_area()\n",
        "volume2 = square_prism.calc_volume()\n",
        "square_prism.display_area()\n",
        "square_prism.display_volume()\n",
        "\n",
        "ratio.append((volume2 / area2))\n",
        "\n",
        "rectangular_dimension = []\n",
        "for i in range(3):\n",
        "    rectangular_dimension.append(random.randint(1, 1000))\n",
        "\n",
        "print(\"Rectangular Prism - Dimension\", end=\" \")\n",
        "print(rectangular_dimension)\n",
        "rectangular_prism = Box(rectangular_dimension[0], rectangular_dimension[1], rectangular_dimension[2])\n",
        "area3 = rectangular_prism.calc_area()\n",
        "volume3 = rectangular_prism.calc_volume()\n",
        "rectangular_prism.display_area()\n",
        "rectangular_prism.display_volume()\n",
        "\n",
        "ratio.append((volume3 / area3))\n",
        "\n",
        "index = ratio.index(max(ratio))\n",
        "\n",
        "if index == 0:\n",
        "    print(\"Cube Prism with Maximum Volume : Area - \", end=\" \")\n",
        "    print(cube_dimension)\n",
        "elif index == 1:\n",
        "    print(\"Square Prism with Maximum Volume : Area - \", end=\" \")\n",
        "    print(square_dimension)\n",
        "else:\n",
        "    print(\"Rectangular Prism with Maximum Volume : Area - \", end=\" \")\n",
        "    print(rectangular_dimension)"
      ]
    }
  ]
}