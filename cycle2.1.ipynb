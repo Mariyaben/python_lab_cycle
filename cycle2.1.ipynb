{
  "nbformat": 4,
  "nbformat_minor": 0,
  "metadata": {
    "colab": {
      "name": "Untitled21.ipynb",
      "provenance": [],
      "authorship_tag": "ABX9TyOByS0Bej8SUSsyFxt3UfkI",
      "include_colab_link": true
    },
    "kernelspec": {
      "name": "python3",
      "display_name": "Python 3"
    },
    "language_info": {
      "name": "python"
    }
  },
  "cells": [
    {
      "cell_type": "markdown",
      "metadata": {
        "id": "view-in-github",
        "colab_type": "text"
      },
      "source": [
        "<a href=\"https://colab.research.google.com/github/Mariyaben/python_lab_cycle/blob/main/cycle2.1.ipynb\" target=\"_parent\"><img src=\"https://colab.research.google.com/assets/colab-badge.svg\" alt=\"Open In Colab\"/></a>"
      ]
    },
    {
      "cell_type": "markdown",
      "source": [
        "1. Suppose a newly born pair of rabbits, one male and one female, are put in a field. Rabbits can mate at the age of one month so that at the end of its second month, a female has produced another pair of rabbits. Suppose that our rabbits never die and that the female always produces one new pair every month from the second month. Develop a program to show a table containing the number of pairs of rabbits in the first N months.\n",
        "\n"
      ],
      "metadata": {
        "id": "7gclv-yiFG0d"
      }
    },
    {
      "cell_type": "code",
      "execution_count": null,
      "metadata": {
        "id": "Ex9ar69dFFWe"
      },
      "outputs": [],
      "source": [
        "n=int(input(\"Enter the month, to find out the number of rabbits: \"))\n",
        "a=0\n",
        "b=1\n",
        "print(\"  Month   |    Pairs\")\n",
        "for i in range(n):\n",
        "  temp=b\n",
        "  b+=a\n",
        "  a=temp\n",
        "  print(\"  \",i+1,\"     |    \",a)"
      ]
    }
  ]
}